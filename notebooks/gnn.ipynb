{
 "cells": [
  {
   "cell_type": "code",
   "execution_count": null,
   "metadata": {},
   "outputs": [],
   "source": [
    "# # torch geometric\n",
    "# try: \n",
    "#     import torch_geometric\n",
    "# except ModuleNotFoundError:\n",
    "#     # Installing torch geometric packages with specific CUDA+PyTorch version. \n",
    "#     # See https://pytorch-geometric.readthedocs.io/en/latest/notes/installation.html for details \n",
    "#     TORCH = torch.__version__.split('+')[0]\n",
    "#     CUDA = 'cu' + torch.version.cuda.replace('.','')\n",
    "\n",
    "#     !pip install torch-scatter     -f https://pytorch-geometric.com/whl/torch-{TORCH}+{CUDA}.html\n",
    "#     !pip install torch-sparse      -f https://pytorch-geometric.com/whl/torch-{TORCH}+{CUDA}.html\n",
    "#     !pip install torch-cluster     -f https://pytorch-geometric.com/whl/torch-{TORCH}+{CUDA}.html\n",
    "#     !pip install torch-spline-conv -f https://pytorch-geometric.com/whl/torch-{TORCH}+{CUDA}.html\n",
    "#     !pip install torch-geometric \n",
    "#     import torch_geometric\n",
    "# import torch_geometric.nn as geom_nn\n",
    "# import torch_geometric.data as geom_data"
   ]
  },
  {
   "cell_type": "code",
   "execution_count": 5,
   "metadata": {},
   "outputs": [
    {
     "name": "stdout",
     "output_type": "stream",
     "text": [
      "Dataset: KarateClub()\n",
      "# Graphs: 1\n",
      "# Features: 34\n",
      "# Classes: 4\n"
     ]
    }
   ],
   "source": [
    "from torch_geometric.datasets import KarateClub\n",
    "\n",
    "dataset = KarateClub()\n",
    "print(\"Dataset:\", dataset)\n",
    "print(\"# Graphs:\", len(dataset))\n",
    "print(\"# Features:\", dataset.num_features)\n",
    "print(\"# Classes:\", dataset.num_classes)"
   ]
  },
  {
   "cell_type": "code",
   "execution_count": null,
   "metadata": {},
   "outputs": [],
   "source": []
  },
  {
   "cell_type": "code",
   "execution_count": null,
   "metadata": {},
   "outputs": [],
   "source": []
  }
 ],
 "metadata": {
  "kernelspec": {
   "display_name": "Python 3",
   "language": "python",
   "name": "python3"
  },
  "language_info": {
   "codemirror_mode": {
    "name": "ipython",
    "version": 3
   },
   "file_extension": ".py",
   "mimetype": "text/x-python",
   "name": "python",
   "nbconvert_exporter": "python",
   "pygments_lexer": "ipython3",
   "version": "3.8.0"
  }
 },
 "nbformat": 4,
 "nbformat_minor": 4
}
